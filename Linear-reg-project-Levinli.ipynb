{
 "cells": [
  {
   "cell_type": "code",
   "execution_count": 2,
   "id": "1f2c3aed",
   "metadata": {},
   "outputs": [],
   "source": [
    "import pandas as pd\n",
    "import numpy as np\n",
    "import matplotlib.pyplot as plt"
   ]
  },
  {
   "cell_type": "code",
   "execution_count": 3,
   "id": "7754330a",
   "metadata": {},
   "outputs": [],
   "source": [
    "df = pd.read_csv('data/Dummy Data HSS.csv')"
   ]
  },
  {
   "cell_type": "code",
   "execution_count": 97,
   "id": "a9c5ac71",
   "metadata": {},
   "outputs": [
    {
     "data": {
      "text/html": [
       "<div>\n",
       "<style scoped>\n",
       "    .dataframe tbody tr th:only-of-type {\n",
       "        vertical-align: middle;\n",
       "    }\n",
       "\n",
       "    .dataframe tbody tr th {\n",
       "        vertical-align: top;\n",
       "    }\n",
       "\n",
       "    .dataframe thead th {\n",
       "        text-align: right;\n",
       "    }\n",
       "</style>\n",
       "<table border=\"1\" class=\"dataframe\">\n",
       "  <thead>\n",
       "    <tr style=\"text-align: right;\">\n",
       "      <th></th>\n",
       "      <th>TV</th>\n",
       "      <th>Radio</th>\n",
       "      <th>Social Media</th>\n",
       "      <th>Influencer</th>\n",
       "      <th>Sales</th>\n",
       "    </tr>\n",
       "  </thead>\n",
       "  <tbody>\n",
       "    <tr>\n",
       "      <th>0</th>\n",
       "      <td>16.0</td>\n",
       "      <td>6.566231</td>\n",
       "      <td>2.907983</td>\n",
       "      <td>Mega</td>\n",
       "      <td>54.732757</td>\n",
       "    </tr>\n",
       "    <tr>\n",
       "      <th>1</th>\n",
       "      <td>13.0</td>\n",
       "      <td>9.237765</td>\n",
       "      <td>2.409567</td>\n",
       "      <td>Mega</td>\n",
       "      <td>46.677897</td>\n",
       "    </tr>\n",
       "    <tr>\n",
       "      <th>2</th>\n",
       "      <td>41.0</td>\n",
       "      <td>15.886446</td>\n",
       "      <td>2.913410</td>\n",
       "      <td>Mega</td>\n",
       "      <td>150.177829</td>\n",
       "    </tr>\n",
       "    <tr>\n",
       "      <th>3</th>\n",
       "      <td>83.0</td>\n",
       "      <td>30.020028</td>\n",
       "      <td>6.922304</td>\n",
       "      <td>Mega</td>\n",
       "      <td>298.246340</td>\n",
       "    </tr>\n",
       "    <tr>\n",
       "      <th>4</th>\n",
       "      <td>15.0</td>\n",
       "      <td>8.437408</td>\n",
       "      <td>1.405998</td>\n",
       "      <td>Micro</td>\n",
       "      <td>56.594181</td>\n",
       "    </tr>\n",
       "  </tbody>\n",
       "</table>\n",
       "</div>"
      ],
      "text/plain": [
       "     TV      Radio  Social Media Influencer       Sales\n",
       "0  16.0   6.566231      2.907983       Mega   54.732757\n",
       "1  13.0   9.237765      2.409567       Mega   46.677897\n",
       "2  41.0  15.886446      2.913410       Mega  150.177829\n",
       "3  83.0  30.020028      6.922304       Mega  298.246340\n",
       "4  15.0   8.437408      1.405998      Micro   56.594181"
      ]
     },
     "execution_count": 97,
     "metadata": {},
     "output_type": "execute_result"
    }
   ],
   "source": [
    "df.head()"
   ]
  },
  {
   "cell_type": "code",
   "execution_count": 98,
   "id": "68f2aa52",
   "metadata": {},
   "outputs": [
    {
     "data": {
      "text/html": [
       "<div>\n",
       "<style scoped>\n",
       "    .dataframe tbody tr th:only-of-type {\n",
       "        vertical-align: middle;\n",
       "    }\n",
       "\n",
       "    .dataframe tbody tr th {\n",
       "        vertical-align: top;\n",
       "    }\n",
       "\n",
       "    .dataframe thead th {\n",
       "        text-align: right;\n",
       "    }\n",
       "</style>\n",
       "<table border=\"1\" class=\"dataframe\">\n",
       "  <thead>\n",
       "    <tr style=\"text-align: right;\">\n",
       "      <th></th>\n",
       "      <th>TV</th>\n",
       "      <th>Radio</th>\n",
       "      <th>Social Media</th>\n",
       "      <th>Sales</th>\n",
       "    </tr>\n",
       "  </thead>\n",
       "  <tbody>\n",
       "    <tr>\n",
       "      <th>count</th>\n",
       "      <td>4562.000000</td>\n",
       "      <td>4568.000000</td>\n",
       "      <td>4566.000000</td>\n",
       "      <td>4566.000000</td>\n",
       "    </tr>\n",
       "    <tr>\n",
       "      <th>mean</th>\n",
       "      <td>54.066857</td>\n",
       "      <td>18.160356</td>\n",
       "      <td>3.323956</td>\n",
       "      <td>192.466602</td>\n",
       "    </tr>\n",
       "    <tr>\n",
       "      <th>std</th>\n",
       "      <td>26.125054</td>\n",
       "      <td>9.676958</td>\n",
       "      <td>2.212670</td>\n",
       "      <td>93.133092</td>\n",
       "    </tr>\n",
       "    <tr>\n",
       "      <th>min</th>\n",
       "      <td>10.000000</td>\n",
       "      <td>0.000684</td>\n",
       "      <td>0.000031</td>\n",
       "      <td>31.199409</td>\n",
       "    </tr>\n",
       "    <tr>\n",
       "      <th>25%</th>\n",
       "      <td>32.000000</td>\n",
       "      <td>10.525957</td>\n",
       "      <td>1.527849</td>\n",
       "      <td>112.322882</td>\n",
       "    </tr>\n",
       "    <tr>\n",
       "      <th>50%</th>\n",
       "      <td>53.000000</td>\n",
       "      <td>17.859513</td>\n",
       "      <td>3.055565</td>\n",
       "      <td>189.231172</td>\n",
       "    </tr>\n",
       "    <tr>\n",
       "      <th>75%</th>\n",
       "      <td>77.000000</td>\n",
       "      <td>25.649730</td>\n",
       "      <td>4.807558</td>\n",
       "      <td>272.507922</td>\n",
       "    </tr>\n",
       "    <tr>\n",
       "      <th>max</th>\n",
       "      <td>100.000000</td>\n",
       "      <td>48.871161</td>\n",
       "      <td>13.981662</td>\n",
       "      <td>364.079751</td>\n",
       "    </tr>\n",
       "  </tbody>\n",
       "</table>\n",
       "</div>"
      ],
      "text/plain": [
       "                TV        Radio  Social Media        Sales\n",
       "count  4562.000000  4568.000000   4566.000000  4566.000000\n",
       "mean     54.066857    18.160356      3.323956   192.466602\n",
       "std      26.125054     9.676958      2.212670    93.133092\n",
       "min      10.000000     0.000684      0.000031    31.199409\n",
       "25%      32.000000    10.525957      1.527849   112.322882\n",
       "50%      53.000000    17.859513      3.055565   189.231172\n",
       "75%      77.000000    25.649730      4.807558   272.507922\n",
       "max     100.000000    48.871161     13.981662   364.079751"
      ]
     },
     "execution_count": 98,
     "metadata": {},
     "output_type": "execute_result"
    }
   ],
   "source": [
    "#check descriptive stats \n",
    "df.describe()"
   ]
  },
  {
   "cell_type": "code",
   "execution_count": 4,
   "id": "181f2253",
   "metadata": {},
   "outputs": [
    {
     "data": {
      "text/html": [
       "<div>\n",
       "<style scoped>\n",
       "    .dataframe tbody tr th:only-of-type {\n",
       "        vertical-align: middle;\n",
       "    }\n",
       "\n",
       "    .dataframe tbody tr th {\n",
       "        vertical-align: top;\n",
       "    }\n",
       "\n",
       "    .dataframe thead th {\n",
       "        text-align: right;\n",
       "    }\n",
       "</style>\n",
       "<table border=\"1\" class=\"dataframe\">\n",
       "  <thead>\n",
       "    <tr style=\"text-align: right;\">\n",
       "      <th></th>\n",
       "      <th>TV</th>\n",
       "      <th>Radio</th>\n",
       "      <th>Social Media</th>\n",
       "      <th>Sales</th>\n",
       "      <th>Influencer_Mega</th>\n",
       "      <th>Influencer_Micro</th>\n",
       "      <th>Influencer_Nano</th>\n",
       "    </tr>\n",
       "  </thead>\n",
       "  <tbody>\n",
       "    <tr>\n",
       "      <th>0</th>\n",
       "      <td>16.0</td>\n",
       "      <td>6.566231</td>\n",
       "      <td>2.907983</td>\n",
       "      <td>54.732757</td>\n",
       "      <td>1</td>\n",
       "      <td>0</td>\n",
       "      <td>0</td>\n",
       "    </tr>\n",
       "    <tr>\n",
       "      <th>1</th>\n",
       "      <td>13.0</td>\n",
       "      <td>9.237765</td>\n",
       "      <td>2.409567</td>\n",
       "      <td>46.677897</td>\n",
       "      <td>1</td>\n",
       "      <td>0</td>\n",
       "      <td>0</td>\n",
       "    </tr>\n",
       "    <tr>\n",
       "      <th>2</th>\n",
       "      <td>41.0</td>\n",
       "      <td>15.886446</td>\n",
       "      <td>2.913410</td>\n",
       "      <td>150.177829</td>\n",
       "      <td>1</td>\n",
       "      <td>0</td>\n",
       "      <td>0</td>\n",
       "    </tr>\n",
       "    <tr>\n",
       "      <th>3</th>\n",
       "      <td>83.0</td>\n",
       "      <td>30.020028</td>\n",
       "      <td>6.922304</td>\n",
       "      <td>298.246340</td>\n",
       "      <td>1</td>\n",
       "      <td>0</td>\n",
       "      <td>0</td>\n",
       "    </tr>\n",
       "    <tr>\n",
       "      <th>4</th>\n",
       "      <td>15.0</td>\n",
       "      <td>8.437408</td>\n",
       "      <td>1.405998</td>\n",
       "      <td>56.594181</td>\n",
       "      <td>0</td>\n",
       "      <td>1</td>\n",
       "      <td>0</td>\n",
       "    </tr>\n",
       "    <tr>\n",
       "      <th>...</th>\n",
       "      <td>...</td>\n",
       "      <td>...</td>\n",
       "      <td>...</td>\n",
       "      <td>...</td>\n",
       "      <td>...</td>\n",
       "      <td>...</td>\n",
       "      <td>...</td>\n",
       "    </tr>\n",
       "    <tr>\n",
       "      <th>4567</th>\n",
       "      <td>26.0</td>\n",
       "      <td>4.472360</td>\n",
       "      <td>0.717090</td>\n",
       "      <td>94.685866</td>\n",
       "      <td>0</td>\n",
       "      <td>1</td>\n",
       "      <td>0</td>\n",
       "    </tr>\n",
       "    <tr>\n",
       "      <th>4568</th>\n",
       "      <td>71.0</td>\n",
       "      <td>20.610685</td>\n",
       "      <td>6.545573</td>\n",
       "      <td>249.101915</td>\n",
       "      <td>0</td>\n",
       "      <td>0</td>\n",
       "      <td>1</td>\n",
       "    </tr>\n",
       "    <tr>\n",
       "      <th>4569</th>\n",
       "      <td>44.0</td>\n",
       "      <td>19.800072</td>\n",
       "      <td>5.096192</td>\n",
       "      <td>163.631457</td>\n",
       "      <td>0</td>\n",
       "      <td>1</td>\n",
       "      <td>0</td>\n",
       "    </tr>\n",
       "    <tr>\n",
       "      <th>4570</th>\n",
       "      <td>71.0</td>\n",
       "      <td>17.534640</td>\n",
       "      <td>1.940873</td>\n",
       "      <td>253.610411</td>\n",
       "      <td>0</td>\n",
       "      <td>0</td>\n",
       "      <td>0</td>\n",
       "    </tr>\n",
       "    <tr>\n",
       "      <th>4571</th>\n",
       "      <td>42.0</td>\n",
       "      <td>15.966688</td>\n",
       "      <td>5.046548</td>\n",
       "      <td>148.202414</td>\n",
       "      <td>0</td>\n",
       "      <td>1</td>\n",
       "      <td>0</td>\n",
       "    </tr>\n",
       "  </tbody>\n",
       "</table>\n",
       "<p>4572 rows × 7 columns</p>\n",
       "</div>"
      ],
      "text/plain": [
       "        TV      Radio  Social Media       Sales  Influencer_Mega  \\\n",
       "0     16.0   6.566231      2.907983   54.732757                1   \n",
       "1     13.0   9.237765      2.409567   46.677897                1   \n",
       "2     41.0  15.886446      2.913410  150.177829                1   \n",
       "3     83.0  30.020028      6.922304  298.246340                1   \n",
       "4     15.0   8.437408      1.405998   56.594181                0   \n",
       "...    ...        ...           ...         ...              ...   \n",
       "4567  26.0   4.472360      0.717090   94.685866                0   \n",
       "4568  71.0  20.610685      6.545573  249.101915                0   \n",
       "4569  44.0  19.800072      5.096192  163.631457                0   \n",
       "4570  71.0  17.534640      1.940873  253.610411                0   \n",
       "4571  42.0  15.966688      5.046548  148.202414                0   \n",
       "\n",
       "      Influencer_Micro  Influencer_Nano  \n",
       "0                    0                0  \n",
       "1                    0                0  \n",
       "2                    0                0  \n",
       "3                    0                0  \n",
       "4                    1                0  \n",
       "...                ...              ...  \n",
       "4567                 1                0  \n",
       "4568                 0                1  \n",
       "4569                 1                0  \n",
       "4570                 0                0  \n",
       "4571                 1                0  \n",
       "\n",
       "[4572 rows x 7 columns]"
      ]
     },
     "execution_count": 4,
     "metadata": {},
     "output_type": "execute_result"
    }
   ],
   "source": [
    "#Create a dataframe that has the dummy variables for Influencer\n",
    "df = pd.get_dummies(df, ['Influencer'], drop_first=True)\n",
    "df"
   ]
  },
  {
   "cell_type": "code",
   "execution_count": 128,
   "id": "183e7eef",
   "metadata": {},
   "outputs": [
    {
     "data": {
      "text/plain": [
       "TV                  10\n",
       "Radio                4\n",
       "Social Media         6\n",
       "Sales                6\n",
       "Influencer_Mega      0\n",
       "Influencer_Micro     0\n",
       "Influencer_Nano      0\n",
       "dtype: int64"
      ]
     },
     "execution_count": 128,
     "metadata": {},
     "output_type": "execute_result"
    }
   ],
   "source": [
    "#check the missing values\n",
    "df.isna().sum()"
   ]
  },
  {
   "cell_type": "code",
   "execution_count": 5,
   "id": "e8b832ba",
   "metadata": {},
   "outputs": [],
   "source": [
    "#fill missing valus \n",
    "df = df.fillna(df.mean())"
   ]
  },
  {
   "cell_type": "code",
   "execution_count": 130,
   "id": "ed5a4f95",
   "metadata": {},
   "outputs": [
    {
     "data": {
      "text/plain": [
       "TV                  0\n",
       "Radio               0\n",
       "Social Media        0\n",
       "Sales               0\n",
       "Influencer_Mega     0\n",
       "Influencer_Micro    0\n",
       "Influencer_Nano     0\n",
       "dtype: int64"
      ]
     },
     "execution_count": 130,
     "metadata": {},
     "output_type": "execute_result"
    }
   ],
   "source": [
    "df.isna().sum()"
   ]
  },
  {
   "cell_type": "code",
   "execution_count": 109,
   "id": "7489e7a3",
   "metadata": {},
   "outputs": [
    {
     "name": "stdout",
     "output_type": "stream",
     "text": [
      "<class 'pandas.core.frame.DataFrame'>\n",
      "RangeIndex: 4572 entries, 0 to 4571\n",
      "Data columns (total 7 columns):\n",
      " #   Column            Non-Null Count  Dtype  \n",
      "---  ------            --------------  -----  \n",
      " 0   TV                4572 non-null   float64\n",
      " 1   Radio             4572 non-null   float64\n",
      " 2   Social Media      4572 non-null   object \n",
      " 3   Sales             4572 non-null   float64\n",
      " 4   Influencer_Mega   4572 non-null   uint8  \n",
      " 5   Influencer_Micro  4572 non-null   uint8  \n",
      " 6   Influencer_Nano   4572 non-null   uint8  \n",
      "dtypes: float64(3), object(1), uint8(3)\n",
      "memory usage: 156.4+ KB\n"
     ]
    }
   ],
   "source": [
    "df.info()"
   ]
  },
  {
   "cell_type": "code",
   "execution_count": 131,
   "id": "6e7ef29d",
   "metadata": {},
   "outputs": [
    {
     "data": {
      "text/html": [
       "<div>\n",
       "<style scoped>\n",
       "    .dataframe tbody tr th:only-of-type {\n",
       "        vertical-align: middle;\n",
       "    }\n",
       "\n",
       "    .dataframe tbody tr th {\n",
       "        vertical-align: top;\n",
       "    }\n",
       "\n",
       "    .dataframe thead th {\n",
       "        text-align: right;\n",
       "    }\n",
       "</style>\n",
       "<table border=\"1\" class=\"dataframe\">\n",
       "  <thead>\n",
       "    <tr style=\"text-align: right;\">\n",
       "      <th></th>\n",
       "      <th>TV</th>\n",
       "      <th>Radio</th>\n",
       "      <th>Social Media</th>\n",
       "      <th>Sales</th>\n",
       "      <th>Influencer_Mega</th>\n",
       "      <th>Influencer_Micro</th>\n",
       "      <th>Influencer_Nano</th>\n",
       "    </tr>\n",
       "  </thead>\n",
       "  <tbody>\n",
       "    <tr>\n",
       "      <th>TV</th>\n",
       "      <td>1.000000</td>\n",
       "      <td>0.866885</td>\n",
       "      <td>0.527010</td>\n",
       "      <td>0.996652</td>\n",
       "      <td>-0.012630</td>\n",
       "      <td>-0.004863</td>\n",
       "      <td>-0.003645</td>\n",
       "    </tr>\n",
       "    <tr>\n",
       "      <th>Radio</th>\n",
       "      <td>0.866885</td>\n",
       "      <td>1.000000</td>\n",
       "      <td>0.606793</td>\n",
       "      <td>0.867369</td>\n",
       "      <td>-0.005071</td>\n",
       "      <td>0.004212</td>\n",
       "      <td>-0.008601</td>\n",
       "    </tr>\n",
       "    <tr>\n",
       "      <th>Social Media</th>\n",
       "      <td>0.527010</td>\n",
       "      <td>0.606793</td>\n",
       "      <td>1.000000</td>\n",
       "      <td>0.528121</td>\n",
       "      <td>0.013072</td>\n",
       "      <td>-0.013312</td>\n",
       "      <td>-0.011351</td>\n",
       "    </tr>\n",
       "    <tr>\n",
       "      <th>Sales</th>\n",
       "      <td>0.996652</td>\n",
       "      <td>0.867369</td>\n",
       "      <td>0.528121</td>\n",
       "      <td>1.000000</td>\n",
       "      <td>-0.011701</td>\n",
       "      <td>-0.004099</td>\n",
       "      <td>-0.003289</td>\n",
       "    </tr>\n",
       "    <tr>\n",
       "      <th>Influencer_Mega</th>\n",
       "      <td>-0.012630</td>\n",
       "      <td>-0.005071</td>\n",
       "      <td>0.013072</td>\n",
       "      <td>-0.011701</td>\n",
       "      <td>1.000000</td>\n",
       "      <td>-0.338211</td>\n",
       "      <td>-0.335465</td>\n",
       "    </tr>\n",
       "    <tr>\n",
       "      <th>Influencer_Micro</th>\n",
       "      <td>-0.004863</td>\n",
       "      <td>0.004212</td>\n",
       "      <td>-0.013312</td>\n",
       "      <td>-0.004099</td>\n",
       "      <td>-0.338211</td>\n",
       "      <td>1.000000</td>\n",
       "      <td>-0.334495</td>\n",
       "    </tr>\n",
       "    <tr>\n",
       "      <th>Influencer_Nano</th>\n",
       "      <td>-0.003645</td>\n",
       "      <td>-0.008601</td>\n",
       "      <td>-0.011351</td>\n",
       "      <td>-0.003289</td>\n",
       "      <td>-0.335465</td>\n",
       "      <td>-0.334495</td>\n",
       "      <td>1.000000</td>\n",
       "    </tr>\n",
       "  </tbody>\n",
       "</table>\n",
       "</div>"
      ],
      "text/plain": [
       "                        TV     Radio  Social Media     Sales  Influencer_Mega  \\\n",
       "TV                1.000000  0.866885      0.527010  0.996652        -0.012630   \n",
       "Radio             0.866885  1.000000      0.606793  0.867369        -0.005071   \n",
       "Social Media      0.527010  0.606793      1.000000  0.528121         0.013072   \n",
       "Sales             0.996652  0.867369      0.528121  1.000000        -0.011701   \n",
       "Influencer_Mega  -0.012630 -0.005071      0.013072 -0.011701         1.000000   \n",
       "Influencer_Micro -0.004863  0.004212     -0.013312 -0.004099        -0.338211   \n",
       "Influencer_Nano  -0.003645 -0.008601     -0.011351 -0.003289        -0.335465   \n",
       "\n",
       "                  Influencer_Micro  Influencer_Nano  \n",
       "TV                       -0.004863        -0.003645  \n",
       "Radio                     0.004212        -0.008601  \n",
       "Social Media             -0.013312        -0.011351  \n",
       "Sales                    -0.004099        -0.003289  \n",
       "Influencer_Mega          -0.338211        -0.335465  \n",
       "Influencer_Micro          1.000000        -0.334495  \n",
       "Influencer_Nano          -0.334495         1.000000  "
      ]
     },
     "execution_count": 131,
     "metadata": {},
     "output_type": "execute_result"
    }
   ],
   "source": [
    "#correlation studys\n",
    "df.corr()"
   ]
  },
  {
   "cell_type": "code",
   "execution_count": 121,
   "id": "e1ddd9ae",
   "metadata": {},
   "outputs": [
    {
     "data": {
      "image/png": "[encoded data removed]",
      "text/plain": [
       "<Figure size 432x288 with 2 Axes>"
      ]
     },
     "metadata": {
      "needs_background": "light"
     },
     "output_type": "display_data"
    }
   ],
   "source": [
    "import seaborn as sns\n",
    "ht = sns.heatmap(df.corr(),annot=True)"
   ]
  },
  {
   "cell_type": "code",
   "execution_count": 6,
   "id": "fec77511",
   "metadata": {},
   "outputs": [],
   "source": [
    "#extract dependent and independent variables\n",
    "X = df.drop('Sales',axis=1)\n",
    "y = df['Sales']"
   ]
  },
  {
   "cell_type": "code",
   "execution_count": 7,
   "id": "510e36e7",
   "metadata": {},
   "outputs": [
    {
     "data": {
      "text/plain": [
       "pandas.core.frame.DataFrame"
      ]
     },
     "execution_count": 7,
     "metadata": {},
     "output_type": "execute_result"
    }
   ],
   "source": [
    "type(X)"
   ]
  },
  {
   "cell_type": "code",
   "execution_count": 8,
   "id": "c6b52722",
   "metadata": {},
   "outputs": [
    {
     "data": {
      "text/plain": [
       "pandas.core.series.Series"
      ]
     },
     "execution_count": 8,
     "metadata": {},
     "output_type": "execute_result"
    }
   ],
   "source": [
    "type(y)"
   ]
  },
  {
   "cell_type": "code",
   "execution_count": 136,
   "id": "eebd4650",
   "metadata": {},
   "outputs": [
    {
     "name": "stdout",
     "output_type": "stream",
     "text": [
      "                            OLS Regression Results                            \n",
      "==============================================================================\n",
      "Dep. Variable:                  Sales   R-squared:                       0.993\n",
      "Model:                            OLS   Adj. R-squared:                  0.993\n",
      "Method:                 Least Squares   F-statistic:                 1.139e+05\n",
      "Date:                Thu, 09 Sep 2021   Prob (F-statistic):               0.00\n",
      "Time:                        14:03:14   Log-Likelihood:                -15748.\n",
      "No. Observations:                4572   AIC:                         3.151e+04\n",
      "Df Residuals:                    4565   BIC:                         3.155e+04\n",
      "Df Model:                           6                                         \n",
      "Covariance Type:            nonrobust                                         \n",
      "====================================================================================\n",
      "                       coef    std err          t      P>|t|      [0.025      0.975]\n",
      "------------------------------------------------------------------------------------\n",
      "const               -0.1780      0.332     -0.536      0.592      -0.829       0.473\n",
      "TV                   3.5128      0.009    407.126      0.000       3.496       3.530\n",
      "Radio                0.1226      0.025      4.928      0.000       0.074       0.171\n",
      "Social Media         0.0560      0.064      0.877      0.381      -0.069       0.181\n",
      "Influencer_Mega      0.4330      0.318      1.362      0.173      -0.190       1.056\n",
      "Influencer_Micro     0.4123      0.318      1.295      0.195      -0.212       1.036\n",
      "Influencer_Nano      0.3762      0.319      1.179      0.238      -0.249       1.002\n",
      "==============================================================================\n",
      "Omnibus:                     2773.887   Durbin-Watson:                   2.002\n",
      "Prob(Omnibus):                  0.000   Jarque-Bera (JB):         11682222.358\n",
      "Skew:                           1.146   Prob(JB):                         0.00\n",
      "Kurtosis:                     250.626   Cond. No.                         288.\n",
      "==============================================================================\n",
      "\n",
      "Notes:\n",
      "[1] Standard Errors assume that the covariance matrix of the errors is correctly specified.\n"
     ]
    }
   ],
   "source": [
    "#importing OLS statsmodel to check the p-values of the X variable\n",
    "import statsmodels.api as sm\n",
    "X2 = sm.add_constant(X) \n",
    "ols = sm.OLS(y,X2)\n",
    "lr = ols.fit()\n",
    "print(lr.summary())"
   ]
  },
  {
   "cell_type": "code",
   "execution_count": 137,
   "id": "2cb9c4b7",
   "metadata": {},
   "outputs": [
    {
     "name": "stdout",
     "output_type": "stream",
     "text": [
      "                                 OLS Regression Results                                \n",
      "=======================================================================================\n",
      "Dep. Variable:                  Sales   R-squared (uncentered):                   0.999\n",
      "Model:                            OLS   Adj. R-squared (uncentered):              0.999\n",
      "Method:                 Least Squares   F-statistic:                          1.814e+06\n",
      "Date:                Thu, 09 Sep 2021   Prob (F-statistic):                        0.00\n",
      "Time:                        14:03:43   Log-Likelihood:                         -15749.\n",
      "No. Observations:                4572   AIC:                                  3.150e+04\n",
      "Df Residuals:                    4570   BIC:                                  3.152e+04\n",
      "Df Model:                           2                                                  \n",
      "Covariance Type:            nonrobust                                                  \n",
      "==============================================================================\n",
      "                 coef    std err          t      P>|t|      [0.025      0.975]\n",
      "------------------------------------------------------------------------------\n",
      "TV             3.5147      0.008    441.940      0.000       3.499       3.530\n",
      "Radio          0.1322      0.023      5.699      0.000       0.087       0.178\n",
      "==============================================================================\n",
      "Omnibus:                     2758.906   Durbin-Watson:                   2.003\n",
      "Prob(Omnibus):                  0.000   Jarque-Bera (JB):         11737769.755\n",
      "Skew:                           1.127   Prob(JB):                         0.00\n",
      "Kurtosis:                     251.215   Cond. No.                         13.8\n",
      "==============================================================================\n",
      "\n",
      "Notes:\n",
      "[1] R² is computed without centering (uncentered) since the model does not contain a constant.\n",
      "[2] Standard Errors assume that the covariance matrix of the errors is correctly specified.\n"
     ]
    }
   ],
   "source": [
    "#Backward Feature Elimination\n",
    "maxp = lr.pvalues.max()\n",
    "while(maxp > 0.025):\n",
    "    X2.drop(lr.pvalues.idxmax(),axis=1,inplace=True) \n",
    "    ols = sm.OLS(y,X2)\n",
    "    lr = ols.fit()\n",
    "    maxp = lr.pvalues.max()\n",
    "print(lr.summary())"
   ]
  },
  {
   "cell_type": "code",
   "execution_count": 138,
   "id": "c3c73de7",
   "metadata": {},
   "outputs": [
    {
     "data": {
      "text/plain": [
       "LinearRegression()"
      ]
     },
     "execution_count": 138,
     "metadata": {},
     "output_type": "execute_result"
    }
   ],
   "source": [
    "#Let's use sklearn to do Linear Regression\n",
    "\n",
    "from sklearn.linear_model import LinearRegression\n",
    "model = LinearRegression()\n",
    "model.fit(X,y)"
   ]
  },
  {
   "cell_type": "code",
   "execution_count": 139,
   "id": "fe72f3c8",
   "metadata": {},
   "outputs": [
    {
     "data": {
      "text/plain": [
       "0.9933668666733815"
      ]
     },
     "execution_count": 139,
     "metadata": {},
     "output_type": "execute_result"
    }
   ],
   "source": [
    "#check R^2 value\n",
    "R2=model.score(X,y)\n",
    "R2"
   ]
  },
  {
   "cell_type": "code",
   "execution_count": 140,
   "id": "2687c38a",
   "metadata": {},
   "outputs": [],
   "source": [
    "n = X.shape[0]\n",
    "k = X.shape[1]\n",
    "#Calculate Adj R^2 value\n",
    "def adjR2(n,k,R2):\n",
    "    return 1 - ((n-1)/(n-k-1))*(1-R2)"
   ]
  },
  {
   "cell_type": "code",
   "execution_count": 141,
   "id": "63ac6873",
   "metadata": {},
   "outputs": [
    {
     "data": {
      "text/plain": [
       "0.9933581484258547"
      ]
     },
     "execution_count": 141,
     "metadata": {},
     "output_type": "execute_result"
    }
   ],
   "source": [
    "adjR2(n,k,R2)"
   ]
  },
  {
   "cell_type": "code",
   "execution_count": 142,
   "id": "ee549eba",
   "metadata": {},
   "outputs": [],
   "source": [
    "#split the data in training and test set\n",
    "from sklearn.model_selection import train_test_split\n",
    "X_train,X_test,y_train,y_test = train_test_split(X,y,random_state=89,test_size=0.25)"
   ]
  },
  {
   "cell_type": "code",
   "execution_count": 143,
   "id": "37b45c5f",
   "metadata": {},
   "outputs": [
    {
     "data": {
      "text/plain": [
       "LinearRegression()"
      ]
     },
     "execution_count": 143,
     "metadata": {},
     "output_type": "execute_result"
    }
   ],
   "source": [
    "lrmodel = LinearRegression()\n",
    "lrmodel.fit(X_train,y_train)"
   ]
  },
  {
   "cell_type": "code",
   "execution_count": 144,
   "id": "e74cd430",
   "metadata": {},
   "outputs": [
    {
     "name": "stdout",
     "output_type": "stream",
     "text": [
      "Training R2 = 0.9928669050628129\n",
      "Training Adj-R2 = 0.9928543981751382\n"
     ]
    }
   ],
   "source": [
    "#Training score \n",
    "R2 = lrmodel.score(X_train,y_train)\n",
    "print('Training R2 =',R2) #r2 value\n",
    "print('Training Adj-R2 =',adjR2(X_train.shape[0],X_train.shape[1],R2))"
   ]
  },
  {
   "cell_type": "code",
   "execution_count": 145,
   "id": "0c048283",
   "metadata": {},
   "outputs": [
    {
     "name": "stdout",
     "output_type": "stream",
     "text": [
      "Test R2 = 0.9948731557920498\n",
      "Test Adj-R2 = 0.994846077389543\n"
     ]
    }
   ],
   "source": [
    "#Test score \n",
    "R2 = lrmodel.score(X_test,y_test)\n",
    "print('Test R2 =',R2) #r2 value\n",
    "print('Test Adj-R2 =',adjR2(X_test.shape[0],X_test.shape[1],R2))"
   ]
  },
  {
   "cell_type": "code",
   "execution_count": 146,
   "id": "c0b09ff1",
   "metadata": {},
   "outputs": [
    {
     "data": {
      "text/plain": [
       "0.9930797856177609"
      ]
     },
     "execution_count": 146,
     "metadata": {},
     "output_type": "execute_result"
    }
   ],
   "source": [
    "#k-fold cross validation using linear regression model\n",
    "from sklearn.model_selection import cross_val_score\n",
    "cross_val_score(LinearRegression(),X,y,cv=4).mean()"
   ]
  },
  {
   "cell_type": "code",
   "execution_count": 148,
   "id": "c18c08e6",
   "metadata": {},
   "outputs": [
    {
     "data": {
      "text/plain": [
       "array([324.78368832, 302.86032638, 292.19793443, ..., 341.45071895,\n",
       "       227.75279686, 171.73305544])"
      ]
     },
     "execution_count": 148,
     "metadata": {},
     "output_type": "execute_result"
    }
   ],
   "source": [
    "#predict y values\n",
    "y_pred = model.predict(X_test)\n",
    "y_pred"
   ]
  },
  {
   "cell_type": "code",
   "execution_count": 149,
   "id": "63c69120",
   "metadata": {},
   "outputs": [
    {
     "name": "stdout",
     "output_type": "stream",
     "text": [
      "2.630173060752087\n",
      "43.75855853836033\n"
     ]
    }
   ],
   "source": [
    "#check the mean squared error between the predicted and true values on the test set\n",
    "from sklearn.metrics import mean_absolute_error, mean_squared_error\n",
    "print(mean_absolute_error(y_test,y_pred)) # mae = mean(|y_pred - y_test|)\n",
    "print(mean_squared_error(y_test,y_pred)) # mse = mean[(y_pred - y_test)^2]"
   ]
  },
  {
   "cell_type": "code",
   "execution_count": 150,
   "id": "5e7e0b72",
   "metadata": {},
   "outputs": [
    {
     "data": {
      "text/plain": [
       "-0.177984565602884"
      ]
     },
     "execution_count": 150,
     "metadata": {},
     "output_type": "execute_result"
    }
   ],
   "source": [
    "model.intercept_"
   ]
  },
  {
   "cell_type": "code",
   "execution_count": 151,
   "id": "a9427989",
   "metadata": {},
   "outputs": [
    {
     "data": {
      "text/plain": [
       "array([3.512761  , 0.12263889, 0.05599117, 0.43300341, 0.41226441,\n",
       "       0.37621142])"
      ]
     },
     "execution_count": 151,
     "metadata": {},
     "output_type": "execute_result"
    }
   ],
   "source": [
    "model.coef_"
   ]
  },
  {
   "cell_type": "code",
   "execution_count": null,
   "id": "5b1f7438",
   "metadata": {},
   "outputs": [],
   "source": []
  }
 ],
 "metadata": {
  "kernelspec": {
   "display_name": "Python 3",
   "language": "python",
   "name": "python3"
  },
  "language_info": {
   "codemirror_mode": {
    "name": "ipython",
    "version": 3
   },
   "file_extension": ".py",
   "mimetype": "text/x-python",
   "name": "python",
   "nbconvert_exporter": "python",
   "pygments_lexer": "ipython3",
   "version": "3.8.8"
  }
 },
 "nbformat": 4,
 "nbformat_minor": 5
}
